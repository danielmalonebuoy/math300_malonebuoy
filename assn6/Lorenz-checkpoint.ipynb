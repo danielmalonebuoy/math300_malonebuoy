{
 "cells": [
  {
   "cell_type": "code",
   "execution_count": null,
   "metadata": {},
   "outputs": [],
   "source": [
    "import numpy as np\n",
    "        \n",
    "def lorenz(point,dt=.01, a=10, b=28, c=(8/3)):\n",
    "    \n",
    "    x=point[0]\n",
    "    y=point[1]\n",
    "    z=point[2]\n",
    "\n",
    "    dx = (a*(y-x))*dt\n",
    "    dy = (x*(b-z)-y)*dt\n",
    "    dz = (x*y-z*c)*dt\n",
    "    \n",
    "    new_x = x+(dx*dt)\n",
    "    new_y = y+(dy*dt)\n",
    "    new_z = z+(dz*dt)\n",
    "    \n",
    "    change = np.array([new_x,new_y,new_z])\n",
    "    \n",
    "    return change"
   ]
  },
  {
   "cell_type": "code",
   "execution_count": null,
   "metadata": {},
   "outputs": [],
   "source": [
    "lorenz((1,1,1)"
   ]
  },
  {
   "cell_type": "code",
   "execution_count": null,
   "metadata": {
    "collapsed": true
   },
   "outputs": [],
   "source": [
    "import numpy as np\n",
    "def iterate_lorenz(point):\n",
    "    \n",
    "    steps = 1000\n",
    "    set_of_points = np.empty((steps+1),)\n",
    "    set_of_points[0] = point\n",
    "    for i in range(steps):\n",
    "        set_of_points[i+1]=lorenz(set_of_points[i])\n",
    "        \n",
    "    return set_of_points\n"
   ]
  },
  {
   "cell_type": "code",
   "execution_count": null,
   "metadata": {
    "collapsed": true
   },
   "outputs": [],
   "source": [
    "iterate_lorenz([1,1,1],.01)"
   ]
  },
  {
   "cell_type": "code",
   "execution_count": null,
   "metadata": {
    "collapsed": true
   },
   "outputs": [],
   "source": []
  }
 ],
 "metadata": {
  "kernelspec": {
   "display_name": "Python 3",
   "language": "python",
   "name": "python3"
  },
  "language_info": {
   "codemirror_mode": {
    "name": "ipython",
    "version": 3
   },
   "file_extension": ".py",
   "mimetype": "text/x-python",
   "name": "python",
   "nbconvert_exporter": "python",
   "pygments_lexer": "ipython3",
   "version": "3.6.1"
  }
 },
 "nbformat": 4,
 "nbformat_minor": 2
}
