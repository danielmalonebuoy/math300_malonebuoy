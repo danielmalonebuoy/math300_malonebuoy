{
 "cells": [
  {
   "cell_type": "markdown",
   "metadata": {},
   "source": [
    "# Chapter 5\n",
    "## Problem 2 \n",
    "### Part 1\n",
    "Call this function with 4 input variables: a, b, and c which are nonnegative integars,\n",
    "and n which is the power to which a, b, and c are raised.  \n",
    "This function seeks to test if Fermat's Last Theorem holds."
   ]
  },
  {
   "cell_type": "code",
   "execution_count": 66,
   "metadata": {
    "collapsed": true
   },
   "outputs": [],
   "source": [
    "def check_fermat(a,b,c,n):\n",
    "    if(((a^n)+(b^n) == (c^n)) and (n>2)):\n",
    "        print(\"Holy smokes, Fermat was wrong!\")\n",
    "    else:\n",
    "        print(\"No that is wrong\")\n",
    "    "
   ]
  },
  {
   "cell_type": "code",
   "execution_count": 67,
   "metadata": {},
   "outputs": [
    {
     "name": "stdout",
     "output_type": "stream",
     "text": [
      "No that is wrong\n"
     ]
    }
   ],
   "source": [
    "check_fermat(1,2,3,2)"
   ]
  },
  {
   "cell_type": "code",
   "execution_count": 70,
   "metadata": {},
   "outputs": [
    {
     "name": "stdout",
     "output_type": "stream",
     "text": [
      "No that is wrong\n"
     ]
    }
   ],
   "source": [
    "check_fermat(1,2,3,4)"
   ]
  },
  {
   "cell_type": "markdown",
   "metadata": {},
   "source": [
    "# Chapter 5\n",
    "## Problem 3\n",
    "### Part 1\n",
    "Call this function with the lengths of three sticks to determine\n",
    "if the sticks can be arranged into a triangle.  If they cannot,\n",
    "the function prints No.  If they can, the function prints Yes.\n"
   ]
  },
  {
   "cell_type": "code",
   "execution_count": 61,
   "metadata": {
    "collapsed": true
   },
   "outputs": [],
   "source": [
    "def is_triangle(l1, l2, l3):\n",
    "    if ((l1 + l2 < l3) or (l2 + l3 < l1) or (l1 + l3 <  l2)):\n",
    "        print(\"No\")\n",
    "    else:\n",
    "        print(\"Yes\")\n",
    "        \n",
    "    "
   ]
  },
  {
   "cell_type": "code",
   "execution_count": 65,
   "metadata": {},
   "outputs": [
    {
     "name": "stdout",
     "output_type": "stream",
     "text": [
      "No\n"
     ]
    }
   ],
   "source": [
    "is_triangle(10,1,4)"
   ]
  },
  {
   "cell_type": "code",
   "execution_count": 64,
   "metadata": {},
   "outputs": [
    {
     "name": "stdout",
     "output_type": "stream",
     "text": [
      "Yes\n"
     ]
    }
   ],
   "source": [
    "is_triangle(1,1,1)"
   ]
  },
  {
   "cell_type": "markdown",
   "metadata": {},
   "source": [
    "# Chapter 6\n",
    "## Problem 2\n",
    "Call this function to evaluate the Ackerman Function of two nonnegative intergers m, n.  \n",
    "If either inputed value of m or n are negative, then the function prints an error message.\n",
    "If the inputs are valid, then the function runs Ackerman's Function with the inputs until m is zero.\n",
    "The returned result is the value of n when m is zero.  \n",
    "For large m and n, the return value of n overflows.\n"
   ]
  },
  {
   "cell_type": "code",
   "execution_count": 55,
   "metadata": {
    "collapsed": true
   },
   "outputs": [],
   "source": [
    "def ack(m, n):\n",
    "    if (m < 0 or n < 0):\n",
    "        return print(\"Error: Must Input Nonnegative Integer\")\n",
    "    if m == 0:\n",
    "        return n+1\n",
    "    elif n == 0:\n",
    "        return ack(m-1, 1)\n",
    "    else:\n",
    "        return ack(m-1, ack(m,n-1))"
   ]
  },
  {
   "cell_type": "code",
   "execution_count": 52,
   "metadata": {},
   "outputs": [
    {
     "data": {
      "text/plain": [
       "125"
      ]
     },
     "execution_count": 52,
     "metadata": {},
     "output_type": "execute_result"
    }
   ],
   "source": [
    "ack(3,4)\n"
   ]
  },
  {
   "cell_type": "code",
   "execution_count": 58,
   "metadata": {},
   "outputs": [
    {
     "data": {
      "text/plain": [
       "12"
      ]
     },
     "execution_count": 58,
     "metadata": {},
     "output_type": "execute_result"
    }
   ],
   "source": [
    "ack(1,10)"
   ]
  },
  {
   "cell_type": "code",
   "execution_count": 60,
   "metadata": {},
   "outputs": [
    {
     "data": {
      "text/plain": [
       "11"
      ]
     },
     "execution_count": 60,
     "metadata": {},
     "output_type": "execute_result"
    }
   ],
   "source": [
    "ack(2,4)"
   ]
  },
  {
   "cell_type": "markdown",
   "metadata": {},
   "source": [
    "# Chapter 6\n",
    "## Problem 5\n",
    "The function gcd returns the greatest common divisor of integers a and b.\n",
    "If b is greater than a, switch the values of a and b.\n",
    "If b is zero, then a is the greatest common divisor.\n",
    "Otherwise, if b is not zero, determine the remainder of a and b. \n",
    "Then recurisvely call gcd with a = b, and b = r\n",
    "Once r is zero, the function has reached the greatest common divisor."
   ]
  },
  {
   "cell_type": "code",
   "execution_count": 48,
   "metadata": {
    "collapsed": true
   },
   "outputs": [],
   "source": [
    "def gcd(a, b):\n",
    "    if b > a:\n",
    "        t = a\n",
    "        a = b\n",
    "        b = t\n",
    "    if b == 0:\n",
    "        return a\n",
    "    else:\n",
    "        r = a % b \n",
    "        return gcd(b,r)"
   ]
  },
  {
   "cell_type": "code",
   "execution_count": 52,
   "metadata": {},
   "outputs": [
    {
     "data": {
      "text/plain": [
       "10"
      ]
     },
     "execution_count": 52,
     "metadata": {},
     "output_type": "execute_result"
    }
   ],
   "source": [
    "gcd(40,50)"
   ]
  },
  {
   "cell_type": "code",
   "execution_count": 53,
   "metadata": {},
   "outputs": [
    {
     "data": {
      "text/plain": [
       "1"
      ]
     },
     "execution_count": 53,
     "metadata": {},
     "output_type": "execute_result"
    }
   ],
   "source": [
    "gcd(3,8)"
   ]
  },
  {
   "cell_type": "markdown",
   "metadata": {},
   "source": [
    "# Chapter 10\n",
    "## Problem 2\n",
    "The function takes a list of numbers and produces a new list\n",
    "where each entry in the new list is the sum of the preceeding \n",
    "terms from the input list.  The function creates a new list\n",
    "the same length as the inputed list.  The first term of both \n",
    "lists are the same.  For each subsequent term, the value in the\n",
    "new list is the sum of the corresponding value from the inputed\n",
    "list and the preceding term in the new list."
   ]
  },
  {
   "cell_type": "code",
   "execution_count": 45,
   "metadata": {},
   "outputs": [],
   "source": [
    "def cumsum(numbers):\n",
    "    totals = [0]*len(numbers)\n",
    "    totals[0] = numbers[0]\n",
    "    for i in range(len(numbers)):\n",
    "        if i > 0:\n",
    "            totals[i] = numbers[i]+totals[i-1]\n",
    "    return totals"
   ]
  },
  {
   "cell_type": "code",
   "execution_count": 46,
   "metadata": {},
   "outputs": [
    {
     "data": {
      "text/plain": [
       "[1, 3, 6, 10, 15]"
      ]
     },
     "execution_count": 46,
     "metadata": {},
     "output_type": "execute_result"
    }
   ],
   "source": [
    "cumsum([1,2,3,4,5])"
   ]
  },
  {
   "cell_type": "code",
   "execution_count": 47,
   "metadata": {},
   "outputs": [
    {
     "data": {
      "text/plain": [
       "[12, 32, 67, 103]"
      ]
     },
     "execution_count": 47,
     "metadata": {},
     "output_type": "execute_result"
    }
   ],
   "source": [
    "cumsum([12,20,35,36])"
   ]
  }
 ],
 "metadata": {
  "kernelspec": {
   "display_name": "Python 3",
   "language": "python",
   "name": "python3"
  },
  "language_info": {
   "codemirror_mode": {
    "name": "ipython",
    "version": 3
   },
   "file_extension": ".py",
   "mimetype": "text/x-python",
   "name": "python",
   "nbconvert_exporter": "python",
   "pygments_lexer": "ipython3",
   "version": "3.6.1"
  }
 },
 "nbformat": 4,
 "nbformat_minor": 2
}
